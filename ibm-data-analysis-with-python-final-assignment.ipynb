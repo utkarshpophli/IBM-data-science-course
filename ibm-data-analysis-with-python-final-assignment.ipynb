{
 "cells": [
  {
   "cell_type": "markdown",
   "id": "bd501bcb",
   "metadata": {
    "papermill": {
     "duration": 0.041383,
     "end_time": "2022-01-24T07:12:22.614480",
     "exception": false,
     "start_time": "2022-01-24T07:12:22.573097",
     "status": "completed"
    },
    "tags": []
   },
   "source": [
    "<center>\n",
    "    <img src=\"https://cf-courses-data.s3.us.cloud-object-storage.appdomain.cloud/IBMDeveloperSkillsNetwork-DA0101EN-SkillsNetwork/labs/FinalModule_Coursera/images/IDSNlogo.png\" width=\"300\" alt=\"cognitiveclass.ai logo\"  />\n",
    "</center>\n",
    "\n",
    "<h1 align=center><font size = 5>Data Analysis with Python</font></h1>\n"
   ]
  },
  {
   "cell_type": "markdown",
   "id": "14d9e47a",
   "metadata": {
    "papermill": {
     "duration": 0.039411,
     "end_time": "2022-01-24T07:12:22.694846",
     "exception": false,
     "start_time": "2022-01-24T07:12:22.655435",
     "status": "completed"
    },
    "tags": []
   },
   "source": [
    "# House Sales in King County, USA\n"
   ]
  },
  {
   "cell_type": "markdown",
   "id": "2cf8583e",
   "metadata": {
    "papermill": {
     "duration": 0.041219,
     "end_time": "2022-01-24T07:12:22.776535",
     "exception": false,
     "start_time": "2022-01-24T07:12:22.735316",
     "status": "completed"
    },
    "tags": []
   },
   "source": [
    "This dataset contains house sale prices for King County, which includes Seattle. It includes homes sold between May 2014 and May 2015.\n"
   ]
  },
  {
   "cell_type": "markdown",
   "id": "d1a0e534",
   "metadata": {
    "papermill": {
     "duration": 0.040398,
     "end_time": "2022-01-24T07:12:22.857423",
     "exception": false,
     "start_time": "2022-01-24T07:12:22.817025",
     "status": "completed"
    },
    "tags": []
   },
   "source": [
    "| Variable      | Description                                                                                                 |\n",
    "| ------------- | ----------------------------------------------------------------------------------------------------------- |\n",
    "| id            | A notation for a house                                                                                      |\n",
    "| date          | Date house was sold                                                                                         |\n",
    "| price         | Price is prediction target                                                                                  |\n",
    "| bedrooms      | Number of bedrooms                                                                                          |\n",
    "| bathrooms     | Number of bathrooms                                                                                         |\n",
    "| sqft_living   | Square footage of the home                                                                                  |\n",
    "| sqft_lot      | Square footage of the lot                                                                                   |\n",
    "| floors        | Total floors (levels) in house                                                                              |\n",
    "| waterfront    | House which has a view to a waterfront                                                                      |\n",
    "| view          | Has been viewed                                                                                             |\n",
    "| condition     | How good the condition is overall                                                                           |\n",
    "| grade         | overall grade given to the housing unit, based on King County grading system                                |\n",
    "| sqft_above    | Square footage of house apart from basement                                                                 |\n",
    "| sqft_basement | Square footage of the basement                                                                              |\n",
    "| yr_built      | Built Year                                                                                                  |\n",
    "| yr_renovated  | Year when house was renovated                                                                               |\n",
    "| zipcode       | Zip code                                                                                                    |\n",
    "| lat           | Latitude coordinate                                                                                         |\n",
    "| long          | Longitude coordinate                                                                                        |\n",
    "| sqft_living15 | Living room area in 2015(implies-- some renovations) This might or might not have affected the lotsize area |\n",
    "| sqft_lot15    | LotSize area in 2015(implies-- some renovations)                                                            |\n"
   ]
  },
  {
   "cell_type": "markdown",
   "id": "92edc198",
   "metadata": {
    "papermill": {
     "duration": 0.039653,
     "end_time": "2022-01-24T07:12:22.937973",
     "exception": false,
     "start_time": "2022-01-24T07:12:22.898320",
     "status": "completed"
    },
    "tags": []
   },
   "source": [
    "You will require the following libraries:\n"
   ]
  },
  {
   "cell_type": "code",
   "execution_count": 1,
   "id": "fb8a2d65",
   "metadata": {
    "execution": {
     "iopub.execute_input": "2022-01-24T07:12:23.030914Z",
     "iopub.status.busy": "2022-01-24T07:12:23.030197Z",
     "iopub.status.idle": "2022-01-24T07:12:24.287118Z",
     "shell.execute_reply": "2022-01-24T07:12:24.287643Z",
     "shell.execute_reply.started": "2022-01-03T13:29:15.969202Z"
    },
    "papermill": {
     "duration": 1.309079,
     "end_time": "2022-01-24T07:12:24.287954",
     "exception": false,
     "start_time": "2022-01-24T07:12:22.978875",
     "status": "completed"
    },
    "tags": []
   },
   "outputs": [],
   "source": [
    "import pandas as pd\n",
    "import matplotlib.pyplot as plt\n",
    "import numpy as np\n",
    "import seaborn as sns\n",
    "from sklearn.pipeline import Pipeline\n",
    "from sklearn.preprocessing import StandardScaler,PolynomialFeatures\n",
    "from sklearn.linear_model import LinearRegression\n",
    "%matplotlib inline"
   ]
  },
  {
   "cell_type": "markdown",
   "id": "66734cc5",
   "metadata": {
    "papermill": {
     "duration": 0.039517,
     "end_time": "2022-01-24T07:12:24.368538",
     "exception": false,
     "start_time": "2022-01-24T07:12:24.329021",
     "status": "completed"
    },
    "tags": []
   },
   "source": [
    "# Module 1: Importing Data Sets\n"
   ]
  },
  {
   "cell_type": "markdown",
   "id": "31115de7",
   "metadata": {
    "papermill": {
     "duration": 0.039683,
     "end_time": "2022-01-24T07:12:24.448072",
     "exception": false,
     "start_time": "2022-01-24T07:12:24.408389",
     "status": "completed"
    },
    "tags": []
   },
   "source": [
    "Load the csv:\n"
   ]
  },
  {
   "cell_type": "code",
   "execution_count": 2,
   "id": "d586c476",
   "metadata": {
    "collapsed": false,
    "execution": {
     "iopub.execute_input": "2022-01-24T07:12:24.531001Z",
     "iopub.status.busy": "2022-01-24T07:12:24.530357Z",
     "iopub.status.idle": "2022-01-24T07:12:24.672693Z",
     "shell.execute_reply": "2022-01-24T07:12:24.673226Z",
     "shell.execute_reply.started": "2022-01-03T13:29:17.077615Z"
    },
    "jupyter": {
     "outputs_hidden": false
    },
    "papermill": {
     "duration": 0.185602,
     "end_time": "2022-01-24T07:12:24.673423",
     "exception": false,
     "start_time": "2022-01-24T07:12:24.487821",
     "status": "completed"
    },
    "tags": []
   },
   "outputs": [],
   "source": [
    "file_name='../input/kc-house-data/kc_house_data_NaN.csv'\n",
    "df=pd.read_csv(file_name)"
   ]
  },
  {
   "cell_type": "markdown",
   "id": "0ee533a5",
   "metadata": {
    "papermill": {
     "duration": 0.039208,
     "end_time": "2022-01-24T07:12:24.752541",
     "exception": false,
     "start_time": "2022-01-24T07:12:24.713333",
     "status": "completed"
    },
    "tags": []
   },
   "source": [
    "We use the method <code>head</code> to display the first 5 columns of the dataframe.\n"
   ]
  },
  {
   "cell_type": "code",
   "execution_count": 3,
   "id": "7ab7c23e",
   "metadata": {
    "execution": {
     "iopub.execute_input": "2022-01-24T07:12:24.835257Z",
     "iopub.status.busy": "2022-01-24T07:12:24.834627Z",
     "iopub.status.idle": "2022-01-24T07:12:24.867498Z",
     "shell.execute_reply": "2022-01-24T07:12:24.868001Z",
     "shell.execute_reply.started": "2022-01-03T13:29:17.181806Z"
    },
    "papermill": {
     "duration": 0.075727,
     "end_time": "2022-01-24T07:12:24.868171",
     "exception": false,
     "start_time": "2022-01-24T07:12:24.792444",
     "status": "completed"
    },
    "tags": []
   },
   "outputs": [
    {
     "data": {
      "text/html": [
       "<div>\n",
       "<style scoped>\n",
       "    .dataframe tbody tr th:only-of-type {\n",
       "        vertical-align: middle;\n",
       "    }\n",
       "\n",
       "    .dataframe tbody tr th {\n",
       "        vertical-align: top;\n",
       "    }\n",
       "\n",
       "    .dataframe thead th {\n",
       "        text-align: right;\n",
       "    }\n",
       "</style>\n",
       "<table border=\"1\" class=\"dataframe\">\n",
       "  <thead>\n",
       "    <tr style=\"text-align: right;\">\n",
       "      <th></th>\n",
       "      <th>Unnamed: 0</th>\n",
       "      <th>id</th>\n",
       "      <th>date</th>\n",
       "      <th>price</th>\n",
       "      <th>bedrooms</th>\n",
       "      <th>bathrooms</th>\n",
       "      <th>sqft_living</th>\n",
       "      <th>sqft_lot</th>\n",
       "      <th>floors</th>\n",
       "      <th>waterfront</th>\n",
       "      <th>...</th>\n",
       "      <th>grade</th>\n",
       "      <th>sqft_above</th>\n",
       "      <th>sqft_basement</th>\n",
       "      <th>yr_built</th>\n",
       "      <th>yr_renovated</th>\n",
       "      <th>zipcode</th>\n",
       "      <th>lat</th>\n",
       "      <th>long</th>\n",
       "      <th>sqft_living15</th>\n",
       "      <th>sqft_lot15</th>\n",
       "    </tr>\n",
       "  </thead>\n",
       "  <tbody>\n",
       "    <tr>\n",
       "      <th>0</th>\n",
       "      <td>0</td>\n",
       "      <td>7129300520</td>\n",
       "      <td>20141013T000000</td>\n",
       "      <td>221900.0</td>\n",
       "      <td>3.0</td>\n",
       "      <td>1.00</td>\n",
       "      <td>1180</td>\n",
       "      <td>5650</td>\n",
       "      <td>1.0</td>\n",
       "      <td>0</td>\n",
       "      <td>...</td>\n",
       "      <td>7</td>\n",
       "      <td>1180</td>\n",
       "      <td>0</td>\n",
       "      <td>1955</td>\n",
       "      <td>0</td>\n",
       "      <td>98178</td>\n",
       "      <td>47.5112</td>\n",
       "      <td>-122.257</td>\n",
       "      <td>1340</td>\n",
       "      <td>5650</td>\n",
       "    </tr>\n",
       "    <tr>\n",
       "      <th>1</th>\n",
       "      <td>1</td>\n",
       "      <td>6414100192</td>\n",
       "      <td>20141209T000000</td>\n",
       "      <td>538000.0</td>\n",
       "      <td>3.0</td>\n",
       "      <td>2.25</td>\n",
       "      <td>2570</td>\n",
       "      <td>7242</td>\n",
       "      <td>2.0</td>\n",
       "      <td>0</td>\n",
       "      <td>...</td>\n",
       "      <td>7</td>\n",
       "      <td>2170</td>\n",
       "      <td>400</td>\n",
       "      <td>1951</td>\n",
       "      <td>1991</td>\n",
       "      <td>98125</td>\n",
       "      <td>47.7210</td>\n",
       "      <td>-122.319</td>\n",
       "      <td>1690</td>\n",
       "      <td>7639</td>\n",
       "    </tr>\n",
       "    <tr>\n",
       "      <th>2</th>\n",
       "      <td>2</td>\n",
       "      <td>5631500400</td>\n",
       "      <td>20150225T000000</td>\n",
       "      <td>180000.0</td>\n",
       "      <td>2.0</td>\n",
       "      <td>1.00</td>\n",
       "      <td>770</td>\n",
       "      <td>10000</td>\n",
       "      <td>1.0</td>\n",
       "      <td>0</td>\n",
       "      <td>...</td>\n",
       "      <td>6</td>\n",
       "      <td>770</td>\n",
       "      <td>0</td>\n",
       "      <td>1933</td>\n",
       "      <td>0</td>\n",
       "      <td>98028</td>\n",
       "      <td>47.7379</td>\n",
       "      <td>-122.233</td>\n",
       "      <td>2720</td>\n",
       "      <td>8062</td>\n",
       "    </tr>\n",
       "    <tr>\n",
       "      <th>3</th>\n",
       "      <td>3</td>\n",
       "      <td>2487200875</td>\n",
       "      <td>20141209T000000</td>\n",
       "      <td>604000.0</td>\n",
       "      <td>4.0</td>\n",
       "      <td>3.00</td>\n",
       "      <td>1960</td>\n",
       "      <td>5000</td>\n",
       "      <td>1.0</td>\n",
       "      <td>0</td>\n",
       "      <td>...</td>\n",
       "      <td>7</td>\n",
       "      <td>1050</td>\n",
       "      <td>910</td>\n",
       "      <td>1965</td>\n",
       "      <td>0</td>\n",
       "      <td>98136</td>\n",
       "      <td>47.5208</td>\n",
       "      <td>-122.393</td>\n",
       "      <td>1360</td>\n",
       "      <td>5000</td>\n",
       "    </tr>\n",
       "    <tr>\n",
       "      <th>4</th>\n",
       "      <td>4</td>\n",
       "      <td>1954400510</td>\n",
       "      <td>20150218T000000</td>\n",
       "      <td>510000.0</td>\n",
       "      <td>3.0</td>\n",
       "      <td>2.00</td>\n",
       "      <td>1680</td>\n",
       "      <td>8080</td>\n",
       "      <td>1.0</td>\n",
       "      <td>0</td>\n",
       "      <td>...</td>\n",
       "      <td>8</td>\n",
       "      <td>1680</td>\n",
       "      <td>0</td>\n",
       "      <td>1987</td>\n",
       "      <td>0</td>\n",
       "      <td>98074</td>\n",
       "      <td>47.6168</td>\n",
       "      <td>-122.045</td>\n",
       "      <td>1800</td>\n",
       "      <td>7503</td>\n",
       "    </tr>\n",
       "  </tbody>\n",
       "</table>\n",
       "<p>5 rows × 22 columns</p>\n",
       "</div>"
      ],
      "text/plain": [
       "   Unnamed: 0          id             date     price  bedrooms  bathrooms  \\\n",
       "0           0  7129300520  20141013T000000  221900.0       3.0       1.00   \n",
       "1           1  6414100192  20141209T000000  538000.0       3.0       2.25   \n",
       "2           2  5631500400  20150225T000000  180000.0       2.0       1.00   \n",
       "3           3  2487200875  20141209T000000  604000.0       4.0       3.00   \n",
       "4           4  1954400510  20150218T000000  510000.0       3.0       2.00   \n",
       "\n",
       "   sqft_living  sqft_lot  floors  waterfront  ...  grade  sqft_above  \\\n",
       "0         1180      5650     1.0           0  ...      7        1180   \n",
       "1         2570      7242     2.0           0  ...      7        2170   \n",
       "2          770     10000     1.0           0  ...      6         770   \n",
       "3         1960      5000     1.0           0  ...      7        1050   \n",
       "4         1680      8080     1.0           0  ...      8        1680   \n",
       "\n",
       "   sqft_basement  yr_built  yr_renovated  zipcode      lat     long  \\\n",
       "0              0      1955             0    98178  47.5112 -122.257   \n",
       "1            400      1951          1991    98125  47.7210 -122.319   \n",
       "2              0      1933             0    98028  47.7379 -122.233   \n",
       "3            910      1965             0    98136  47.5208 -122.393   \n",
       "4              0      1987             0    98074  47.6168 -122.045   \n",
       "\n",
       "   sqft_living15  sqft_lot15  \n",
       "0           1340        5650  \n",
       "1           1690        7639  \n",
       "2           2720        8062  \n",
       "3           1360        5000  \n",
       "4           1800        7503  \n",
       "\n",
       "[5 rows x 22 columns]"
      ]
     },
     "execution_count": 3,
     "metadata": {},
     "output_type": "execute_result"
    }
   ],
   "source": [
    "df.head()"
   ]
  },
  {
   "cell_type": "markdown",
   "id": "bb9434f1",
   "metadata": {
    "papermill": {
     "duration": 0.04057,
     "end_time": "2022-01-24T07:12:24.949456",
     "exception": false,
     "start_time": "2022-01-24T07:12:24.908886",
     "status": "completed"
    },
    "tags": []
   },
   "source": [
    "### Question 1\n",
    "\n",
    "Display the data types of each column using the function dtypes, then take a screenshot and submit it, include your code in the image.\n"
   ]
  },
  {
   "cell_type": "code",
   "execution_count": 4,
   "id": "68fba7ea",
   "metadata": {
    "collapsed": false,
    "execution": {
     "iopub.execute_input": "2022-01-24T07:12:25.034075Z",
     "iopub.status.busy": "2022-01-24T07:12:25.033461Z",
     "iopub.status.idle": "2022-01-24T07:12:25.039623Z",
     "shell.execute_reply": "2022-01-24T07:12:25.040232Z",
     "shell.execute_reply.started": "2022-01-03T13:29:17.21195Z"
    },
    "jupyter": {
     "outputs_hidden": false
    },
    "papermill": {
     "duration": 0.050574,
     "end_time": "2022-01-24T07:12:25.040415",
     "exception": false,
     "start_time": "2022-01-24T07:12:24.989841",
     "status": "completed"
    },
    "tags": []
   },
   "outputs": [
    {
     "data": {
      "text/plain": [
       "Unnamed: 0         int64\n",
       "id                 int64\n",
       "date              object\n",
       "price            float64\n",
       "bedrooms         float64\n",
       "bathrooms        float64\n",
       "sqft_living        int64\n",
       "sqft_lot           int64\n",
       "floors           float64\n",
       "waterfront         int64\n",
       "view               int64\n",
       "condition          int64\n",
       "grade              int64\n",
       "sqft_above         int64\n",
       "sqft_basement      int64\n",
       "yr_built           int64\n",
       "yr_renovated       int64\n",
       "zipcode            int64\n",
       "lat              float64\n",
       "long             float64\n",
       "sqft_living15      int64\n",
       "sqft_lot15         int64\n",
       "dtype: object"
      ]
     },
     "execution_count": 4,
     "metadata": {},
     "output_type": "execute_result"
    }
   ],
   "source": [
    "df.dtypes"
   ]
  },
  {
   "cell_type": "markdown",
   "id": "9319d6d9",
   "metadata": {
    "papermill": {
     "duration": 0.041437,
     "end_time": "2022-01-24T07:12:25.122588",
     "exception": false,
     "start_time": "2022-01-24T07:12:25.081151",
     "status": "completed"
    },
    "tags": []
   },
   "source": [
    "We use the method describe to obtain a statistical summary of the dataframe.\n"
   ]
  },
  {
   "cell_type": "code",
   "execution_count": 5,
   "id": "f82350a9",
   "metadata": {
    "collapsed": false,
    "execution": {
     "iopub.execute_input": "2022-01-24T07:12:25.214528Z",
     "iopub.status.busy": "2022-01-24T07:12:25.213849Z",
     "iopub.status.idle": "2022-01-24T07:12:25.295300Z",
     "shell.execute_reply": "2022-01-24T07:12:25.294747Z",
     "shell.execute_reply.started": "2022-01-03T13:29:17.218612Z"
    },
    "jupyter": {
     "outputs_hidden": false
    },
    "papermill": {
     "duration": 0.131316,
     "end_time": "2022-01-24T07:12:25.295446",
     "exception": false,
     "start_time": "2022-01-24T07:12:25.164130",
     "status": "completed"
    },
    "tags": []
   },
   "outputs": [
    {
     "data": {
      "text/html": [
       "<div>\n",
       "<style scoped>\n",
       "    .dataframe tbody tr th:only-of-type {\n",
       "        vertical-align: middle;\n",
       "    }\n",
       "\n",
       "    .dataframe tbody tr th {\n",
       "        vertical-align: top;\n",
       "    }\n",
       "\n",
       "    .dataframe thead th {\n",
       "        text-align: right;\n",
       "    }\n",
       "</style>\n",
       "<table border=\"1\" class=\"dataframe\">\n",
       "  <thead>\n",
       "    <tr style=\"text-align: right;\">\n",
       "      <th></th>\n",
       "      <th>Unnamed: 0</th>\n",
       "      <th>id</th>\n",
       "      <th>price</th>\n",
       "      <th>bedrooms</th>\n",
       "      <th>bathrooms</th>\n",
       "      <th>sqft_living</th>\n",
       "      <th>sqft_lot</th>\n",
       "      <th>floors</th>\n",
       "      <th>waterfront</th>\n",
       "      <th>view</th>\n",
       "      <th>...</th>\n",
       "      <th>grade</th>\n",
       "      <th>sqft_above</th>\n",
       "      <th>sqft_basement</th>\n",
       "      <th>yr_built</th>\n",
       "      <th>yr_renovated</th>\n",
       "      <th>zipcode</th>\n",
       "      <th>lat</th>\n",
       "      <th>long</th>\n",
       "      <th>sqft_living15</th>\n",
       "      <th>sqft_lot15</th>\n",
       "    </tr>\n",
       "  </thead>\n",
       "  <tbody>\n",
       "    <tr>\n",
       "      <th>count</th>\n",
       "      <td>21613.00000</td>\n",
       "      <td>2.161300e+04</td>\n",
       "      <td>2.161300e+04</td>\n",
       "      <td>21600.000000</td>\n",
       "      <td>21603.000000</td>\n",
       "      <td>21613.000000</td>\n",
       "      <td>2.161300e+04</td>\n",
       "      <td>21613.000000</td>\n",
       "      <td>21613.000000</td>\n",
       "      <td>21613.000000</td>\n",
       "      <td>...</td>\n",
       "      <td>21613.000000</td>\n",
       "      <td>21613.000000</td>\n",
       "      <td>21613.000000</td>\n",
       "      <td>21613.000000</td>\n",
       "      <td>21613.000000</td>\n",
       "      <td>21613.000000</td>\n",
       "      <td>21613.000000</td>\n",
       "      <td>21613.000000</td>\n",
       "      <td>21613.000000</td>\n",
       "      <td>21613.000000</td>\n",
       "    </tr>\n",
       "    <tr>\n",
       "      <th>mean</th>\n",
       "      <td>10806.00000</td>\n",
       "      <td>4.580302e+09</td>\n",
       "      <td>5.400881e+05</td>\n",
       "      <td>3.372870</td>\n",
       "      <td>2.115736</td>\n",
       "      <td>2079.899736</td>\n",
       "      <td>1.510697e+04</td>\n",
       "      <td>1.494309</td>\n",
       "      <td>0.007542</td>\n",
       "      <td>0.234303</td>\n",
       "      <td>...</td>\n",
       "      <td>7.656873</td>\n",
       "      <td>1788.390691</td>\n",
       "      <td>291.509045</td>\n",
       "      <td>1971.005136</td>\n",
       "      <td>84.402258</td>\n",
       "      <td>98077.939805</td>\n",
       "      <td>47.560053</td>\n",
       "      <td>-122.213896</td>\n",
       "      <td>1986.552492</td>\n",
       "      <td>12768.455652</td>\n",
       "    </tr>\n",
       "    <tr>\n",
       "      <th>std</th>\n",
       "      <td>6239.28002</td>\n",
       "      <td>2.876566e+09</td>\n",
       "      <td>3.671272e+05</td>\n",
       "      <td>0.926657</td>\n",
       "      <td>0.768996</td>\n",
       "      <td>918.440897</td>\n",
       "      <td>4.142051e+04</td>\n",
       "      <td>0.539989</td>\n",
       "      <td>0.086517</td>\n",
       "      <td>0.766318</td>\n",
       "      <td>...</td>\n",
       "      <td>1.175459</td>\n",
       "      <td>828.090978</td>\n",
       "      <td>442.575043</td>\n",
       "      <td>29.373411</td>\n",
       "      <td>401.679240</td>\n",
       "      <td>53.505026</td>\n",
       "      <td>0.138564</td>\n",
       "      <td>0.140828</td>\n",
       "      <td>685.391304</td>\n",
       "      <td>27304.179631</td>\n",
       "    </tr>\n",
       "    <tr>\n",
       "      <th>min</th>\n",
       "      <td>0.00000</td>\n",
       "      <td>1.000102e+06</td>\n",
       "      <td>7.500000e+04</td>\n",
       "      <td>1.000000</td>\n",
       "      <td>0.500000</td>\n",
       "      <td>290.000000</td>\n",
       "      <td>5.200000e+02</td>\n",
       "      <td>1.000000</td>\n",
       "      <td>0.000000</td>\n",
       "      <td>0.000000</td>\n",
       "      <td>...</td>\n",
       "      <td>1.000000</td>\n",
       "      <td>290.000000</td>\n",
       "      <td>0.000000</td>\n",
       "      <td>1900.000000</td>\n",
       "      <td>0.000000</td>\n",
       "      <td>98001.000000</td>\n",
       "      <td>47.155900</td>\n",
       "      <td>-122.519000</td>\n",
       "      <td>399.000000</td>\n",
       "      <td>651.000000</td>\n",
       "    </tr>\n",
       "    <tr>\n",
       "      <th>25%</th>\n",
       "      <td>5403.00000</td>\n",
       "      <td>2.123049e+09</td>\n",
       "      <td>3.219500e+05</td>\n",
       "      <td>3.000000</td>\n",
       "      <td>1.750000</td>\n",
       "      <td>1427.000000</td>\n",
       "      <td>5.040000e+03</td>\n",
       "      <td>1.000000</td>\n",
       "      <td>0.000000</td>\n",
       "      <td>0.000000</td>\n",
       "      <td>...</td>\n",
       "      <td>7.000000</td>\n",
       "      <td>1190.000000</td>\n",
       "      <td>0.000000</td>\n",
       "      <td>1951.000000</td>\n",
       "      <td>0.000000</td>\n",
       "      <td>98033.000000</td>\n",
       "      <td>47.471000</td>\n",
       "      <td>-122.328000</td>\n",
       "      <td>1490.000000</td>\n",
       "      <td>5100.000000</td>\n",
       "    </tr>\n",
       "    <tr>\n",
       "      <th>50%</th>\n",
       "      <td>10806.00000</td>\n",
       "      <td>3.904930e+09</td>\n",
       "      <td>4.500000e+05</td>\n",
       "      <td>3.000000</td>\n",
       "      <td>2.250000</td>\n",
       "      <td>1910.000000</td>\n",
       "      <td>7.618000e+03</td>\n",
       "      <td>1.500000</td>\n",
       "      <td>0.000000</td>\n",
       "      <td>0.000000</td>\n",
       "      <td>...</td>\n",
       "      <td>7.000000</td>\n",
       "      <td>1560.000000</td>\n",
       "      <td>0.000000</td>\n",
       "      <td>1975.000000</td>\n",
       "      <td>0.000000</td>\n",
       "      <td>98065.000000</td>\n",
       "      <td>47.571800</td>\n",
       "      <td>-122.230000</td>\n",
       "      <td>1840.000000</td>\n",
       "      <td>7620.000000</td>\n",
       "    </tr>\n",
       "    <tr>\n",
       "      <th>75%</th>\n",
       "      <td>16209.00000</td>\n",
       "      <td>7.308900e+09</td>\n",
       "      <td>6.450000e+05</td>\n",
       "      <td>4.000000</td>\n",
       "      <td>2.500000</td>\n",
       "      <td>2550.000000</td>\n",
       "      <td>1.068800e+04</td>\n",
       "      <td>2.000000</td>\n",
       "      <td>0.000000</td>\n",
       "      <td>0.000000</td>\n",
       "      <td>...</td>\n",
       "      <td>8.000000</td>\n",
       "      <td>2210.000000</td>\n",
       "      <td>560.000000</td>\n",
       "      <td>1997.000000</td>\n",
       "      <td>0.000000</td>\n",
       "      <td>98118.000000</td>\n",
       "      <td>47.678000</td>\n",
       "      <td>-122.125000</td>\n",
       "      <td>2360.000000</td>\n",
       "      <td>10083.000000</td>\n",
       "    </tr>\n",
       "    <tr>\n",
       "      <th>max</th>\n",
       "      <td>21612.00000</td>\n",
       "      <td>9.900000e+09</td>\n",
       "      <td>7.700000e+06</td>\n",
       "      <td>33.000000</td>\n",
       "      <td>8.000000</td>\n",
       "      <td>13540.000000</td>\n",
       "      <td>1.651359e+06</td>\n",
       "      <td>3.500000</td>\n",
       "      <td>1.000000</td>\n",
       "      <td>4.000000</td>\n",
       "      <td>...</td>\n",
       "      <td>13.000000</td>\n",
       "      <td>9410.000000</td>\n",
       "      <td>4820.000000</td>\n",
       "      <td>2015.000000</td>\n",
       "      <td>2015.000000</td>\n",
       "      <td>98199.000000</td>\n",
       "      <td>47.777600</td>\n",
       "      <td>-121.315000</td>\n",
       "      <td>6210.000000</td>\n",
       "      <td>871200.000000</td>\n",
       "    </tr>\n",
       "  </tbody>\n",
       "</table>\n",
       "<p>8 rows × 21 columns</p>\n",
       "</div>"
      ],
      "text/plain": [
       "        Unnamed: 0            id         price      bedrooms     bathrooms  \\\n",
       "count  21613.00000  2.161300e+04  2.161300e+04  21600.000000  21603.000000   \n",
       "mean   10806.00000  4.580302e+09  5.400881e+05      3.372870      2.115736   \n",
       "std     6239.28002  2.876566e+09  3.671272e+05      0.926657      0.768996   \n",
       "min        0.00000  1.000102e+06  7.500000e+04      1.000000      0.500000   \n",
       "25%     5403.00000  2.123049e+09  3.219500e+05      3.000000      1.750000   \n",
       "50%    10806.00000  3.904930e+09  4.500000e+05      3.000000      2.250000   \n",
       "75%    16209.00000  7.308900e+09  6.450000e+05      4.000000      2.500000   \n",
       "max    21612.00000  9.900000e+09  7.700000e+06     33.000000      8.000000   \n",
       "\n",
       "        sqft_living      sqft_lot        floors    waterfront          view  \\\n",
       "count  21613.000000  2.161300e+04  21613.000000  21613.000000  21613.000000   \n",
       "mean    2079.899736  1.510697e+04      1.494309      0.007542      0.234303   \n",
       "std      918.440897  4.142051e+04      0.539989      0.086517      0.766318   \n",
       "min      290.000000  5.200000e+02      1.000000      0.000000      0.000000   \n",
       "25%     1427.000000  5.040000e+03      1.000000      0.000000      0.000000   \n",
       "50%     1910.000000  7.618000e+03      1.500000      0.000000      0.000000   \n",
       "75%     2550.000000  1.068800e+04      2.000000      0.000000      0.000000   \n",
       "max    13540.000000  1.651359e+06      3.500000      1.000000      4.000000   \n",
       "\n",
       "       ...         grade    sqft_above  sqft_basement      yr_built  \\\n",
       "count  ...  21613.000000  21613.000000   21613.000000  21613.000000   \n",
       "mean   ...      7.656873   1788.390691     291.509045   1971.005136   \n",
       "std    ...      1.175459    828.090978     442.575043     29.373411   \n",
       "min    ...      1.000000    290.000000       0.000000   1900.000000   \n",
       "25%    ...      7.000000   1190.000000       0.000000   1951.000000   \n",
       "50%    ...      7.000000   1560.000000       0.000000   1975.000000   \n",
       "75%    ...      8.000000   2210.000000     560.000000   1997.000000   \n",
       "max    ...     13.000000   9410.000000    4820.000000   2015.000000   \n",
       "\n",
       "       yr_renovated       zipcode           lat          long  sqft_living15  \\\n",
       "count  21613.000000  21613.000000  21613.000000  21613.000000   21613.000000   \n",
       "mean      84.402258  98077.939805     47.560053   -122.213896    1986.552492   \n",
       "std      401.679240     53.505026      0.138564      0.140828     685.391304   \n",
       "min        0.000000  98001.000000     47.155900   -122.519000     399.000000   \n",
       "25%        0.000000  98033.000000     47.471000   -122.328000    1490.000000   \n",
       "50%        0.000000  98065.000000     47.571800   -122.230000    1840.000000   \n",
       "75%        0.000000  98118.000000     47.678000   -122.125000    2360.000000   \n",
       "max     2015.000000  98199.000000     47.777600   -121.315000    6210.000000   \n",
       "\n",
       "          sqft_lot15  \n",
       "count   21613.000000  \n",
       "mean    12768.455652  \n",
       "std     27304.179631  \n",
       "min       651.000000  \n",
       "25%      5100.000000  \n",
       "50%      7620.000000  \n",
       "75%     10083.000000  \n",
       "max    871200.000000  \n",
       "\n",
       "[8 rows x 21 columns]"
      ]
     },
     "execution_count": 5,
     "metadata": {},
     "output_type": "execute_result"
    }
   ],
   "source": [
    "df.describe()"
   ]
  },
  {
   "cell_type": "markdown",
   "id": "3f2ae779",
   "metadata": {
    "papermill": {
     "duration": 0.041427,
     "end_time": "2022-01-24T07:12:25.379037",
     "exception": false,
     "start_time": "2022-01-24T07:12:25.337610",
     "status": "completed"
    },
    "tags": []
   },
   "source": [
    "# Module 2: Data Wrangling\n"
   ]
  },
  {
   "cell_type": "markdown",
   "id": "a3d5e4f8",
   "metadata": {
    "papermill": {
     "duration": 0.041545,
     "end_time": "2022-01-24T07:12:25.462192",
     "exception": false,
     "start_time": "2022-01-24T07:12:25.420647",
     "status": "completed"
    },
    "tags": []
   },
   "source": [
    "### Question 2\n",
    "\n",
    "Drop the columns <code>\"id\"</code>  and <code>\"Unnamed: 0\"</code> from axis 1 using the method <code>drop()</code>, then use the method <code>describe()</code> to obtain a statistical summary of the data. Take a screenshot and submit it, make sure the <code>inplace</code> parameter is set to <code>True</code>\n"
   ]
  },
  {
   "cell_type": "code",
   "execution_count": 6,
   "id": "0b09176a",
   "metadata": {
    "collapsed": false,
    "execution": {
     "iopub.execute_input": "2022-01-24T07:12:25.551248Z",
     "iopub.status.busy": "2022-01-24T07:12:25.550576Z",
     "iopub.status.idle": "2022-01-24T07:12:25.566683Z",
     "shell.execute_reply": "2022-01-24T07:12:25.567418Z",
     "shell.execute_reply.started": "2022-01-03T13:29:17.29883Z"
    },
    "jupyter": {
     "outputs_hidden": false
    },
    "papermill": {
     "duration": 0.063684,
     "end_time": "2022-01-24T07:12:25.567596",
     "exception": false,
     "start_time": "2022-01-24T07:12:25.503912",
     "status": "completed"
    },
    "tags": []
   },
   "outputs": [
    {
     "name": "stdout",
     "output_type": "stream",
     "text": [
      "                  date     price  bedrooms  bathrooms  sqft_living  sqft_lot  \\\n",
      "0      20141013T000000  221900.0       3.0       1.00         1180      5650   \n",
      "1      20141209T000000  538000.0       3.0       2.25         2570      7242   \n",
      "2      20150225T000000  180000.0       2.0       1.00          770     10000   \n",
      "3      20141209T000000  604000.0       4.0       3.00         1960      5000   \n",
      "4      20150218T000000  510000.0       3.0       2.00         1680      8080   \n",
      "...                ...       ...       ...        ...          ...       ...   \n",
      "21608  20140521T000000  360000.0       3.0       2.50         1530      1131   \n",
      "21609  20150223T000000  400000.0       4.0       2.50         2310      5813   \n",
      "21610  20140623T000000  402101.0       2.0       0.75         1020      1350   \n",
      "21611  20150116T000000  400000.0       3.0       2.50         1600      2388   \n",
      "21612  20141015T000000  325000.0       2.0       0.75         1020      1076   \n",
      "\n",
      "       floors  waterfront  view  condition  grade  sqft_above  sqft_basement  \\\n",
      "0         1.0           0     0          3      7        1180              0   \n",
      "1         2.0           0     0          3      7        2170            400   \n",
      "2         1.0           0     0          3      6         770              0   \n",
      "3         1.0           0     0          5      7        1050            910   \n",
      "4         1.0           0     0          3      8        1680              0   \n",
      "...       ...         ...   ...        ...    ...         ...            ...   \n",
      "21608     3.0           0     0          3      8        1530              0   \n",
      "21609     2.0           0     0          3      8        2310              0   \n",
      "21610     2.0           0     0          3      7        1020              0   \n",
      "21611     2.0           0     0          3      8        1600              0   \n",
      "21612     2.0           0     0          3      7        1020              0   \n",
      "\n",
      "       yr_built  yr_renovated  zipcode      lat     long  sqft_living15  \\\n",
      "0          1955             0    98178  47.5112 -122.257           1340   \n",
      "1          1951          1991    98125  47.7210 -122.319           1690   \n",
      "2          1933             0    98028  47.7379 -122.233           2720   \n",
      "3          1965             0    98136  47.5208 -122.393           1360   \n",
      "4          1987             0    98074  47.6168 -122.045           1800   \n",
      "...         ...           ...      ...      ...      ...            ...   \n",
      "21608      2009             0    98103  47.6993 -122.346           1530   \n",
      "21609      2014             0    98146  47.5107 -122.362           1830   \n",
      "21610      2009             0    98144  47.5944 -122.299           1020   \n",
      "21611      2004             0    98027  47.5345 -122.069           1410   \n",
      "21612      2008             0    98144  47.5941 -122.299           1020   \n",
      "\n",
      "       sqft_lot15  \n",
      "0            5650  \n",
      "1            7639  \n",
      "2            8062  \n",
      "3            5000  \n",
      "4            7503  \n",
      "...           ...  \n",
      "21608        1509  \n",
      "21609        7200  \n",
      "21610        2007  \n",
      "21611        1287  \n",
      "21612        1357  \n",
      "\n",
      "[21613 rows x 20 columns]\n"
     ]
    }
   ],
   "source": [
    "df.drop(['id','Unnamed: 0'], axis = 1, inplace = True)\n",
    "print(df)"
   ]
  },
  {
   "cell_type": "markdown",
   "id": "1b711ad4",
   "metadata": {
    "papermill": {
     "duration": 0.041924,
     "end_time": "2022-01-24T07:12:25.651952",
     "exception": false,
     "start_time": "2022-01-24T07:12:25.610028",
     "status": "completed"
    },
    "tags": []
   },
   "source": [
    "We can see we have missing values for the columns <code> bedrooms</code>  and <code> bathrooms </code>\n"
   ]
  },
  {
   "cell_type": "code",
   "execution_count": 7,
   "id": "04035b42",
   "metadata": {
    "collapsed": false,
    "execution": {
     "iopub.execute_input": "2022-01-24T07:12:25.739546Z",
     "iopub.status.busy": "2022-01-24T07:12:25.738929Z",
     "iopub.status.idle": "2022-01-24T07:12:25.746038Z",
     "shell.execute_reply": "2022-01-24T07:12:25.746681Z",
     "shell.execute_reply.started": "2022-01-03T13:29:17.321298Z"
    },
    "jupyter": {
     "outputs_hidden": false
    },
    "papermill": {
     "duration": 0.052836,
     "end_time": "2022-01-24T07:12:25.746862",
     "exception": false,
     "start_time": "2022-01-24T07:12:25.694026",
     "status": "completed"
    },
    "tags": []
   },
   "outputs": [
    {
     "name": "stdout",
     "output_type": "stream",
     "text": [
      "number of NaN values for the column bedrooms : 13\n",
      "number of NaN values for the column bathrooms : 10\n"
     ]
    }
   ],
   "source": [
    "print(\"number of NaN values for the column bedrooms :\", df['bedrooms'].isnull().sum())\n",
    "print(\"number of NaN values for the column bathrooms :\", df['bathrooms'].isnull().sum())\n"
   ]
  },
  {
   "cell_type": "markdown",
   "id": "9eb8975a",
   "metadata": {
    "papermill": {
     "duration": 0.042147,
     "end_time": "2022-01-24T07:12:25.831750",
     "exception": false,
     "start_time": "2022-01-24T07:12:25.789603",
     "status": "completed"
    },
    "tags": []
   },
   "source": [
    "We can replace the missing values of the column <code>'bedrooms'</code> with the mean of the column  <code>'bedrooms' </code> using the method <code>replace()</code>. Don't forget to set the <code>inplace</code> parameter to <code>True</code>\n"
   ]
  },
  {
   "cell_type": "code",
   "execution_count": 8,
   "id": "f7263ec6",
   "metadata": {
    "execution": {
     "iopub.execute_input": "2022-01-24T07:12:25.919605Z",
     "iopub.status.busy": "2022-01-24T07:12:25.918969Z",
     "iopub.status.idle": "2022-01-24T07:12:25.923460Z",
     "shell.execute_reply": "2022-01-24T07:12:25.923980Z",
     "shell.execute_reply.started": "2022-01-03T13:29:17.33042Z"
    },
    "papermill": {
     "duration": 0.049784,
     "end_time": "2022-01-24T07:12:25.924140",
     "exception": false,
     "start_time": "2022-01-24T07:12:25.874356",
     "status": "completed"
    },
    "tags": []
   },
   "outputs": [],
   "source": [
    "mean=df['bedrooms'].mean()\n",
    "df['bedrooms'].replace(np.nan,mean, inplace=True)"
   ]
  },
  {
   "cell_type": "markdown",
   "id": "9da34a14",
   "metadata": {
    "papermill": {
     "duration": 0.042257,
     "end_time": "2022-01-24T07:12:26.009694",
     "exception": false,
     "start_time": "2022-01-24T07:12:25.967437",
     "status": "completed"
    },
    "tags": []
   },
   "source": [
    "We also replace the missing values of the column <code>'bathrooms'</code> with the mean of the column  <code>'bathrooms' </code> using the method <code>replace()</code>. Don't forget to set the <code> inplace </code>  parameter top <code> True </code>\n"
   ]
  },
  {
   "cell_type": "code",
   "execution_count": 9,
   "id": "61714e62",
   "metadata": {
    "execution": {
     "iopub.execute_input": "2022-01-24T07:12:26.098380Z",
     "iopub.status.busy": "2022-01-24T07:12:26.097695Z",
     "iopub.status.idle": "2022-01-24T07:12:26.101944Z",
     "shell.execute_reply": "2022-01-24T07:12:26.102546Z",
     "shell.execute_reply.started": "2022-01-03T13:29:17.340235Z"
    },
    "papermill": {
     "duration": 0.050146,
     "end_time": "2022-01-24T07:12:26.102713",
     "exception": false,
     "start_time": "2022-01-24T07:12:26.052567",
     "status": "completed"
    },
    "tags": []
   },
   "outputs": [],
   "source": [
    "mean=df['bathrooms'].mean()\n",
    "df['bathrooms'].replace(np.nan,mean, inplace=True)"
   ]
  },
  {
   "cell_type": "code",
   "execution_count": 10,
   "id": "def4ee13",
   "metadata": {
    "collapsed": false,
    "execution": {
     "iopub.execute_input": "2022-01-24T07:12:26.190799Z",
     "iopub.status.busy": "2022-01-24T07:12:26.190158Z",
     "iopub.status.idle": "2022-01-24T07:12:26.196289Z",
     "shell.execute_reply": "2022-01-24T07:12:26.197086Z",
     "shell.execute_reply.started": "2022-01-03T13:29:17.350944Z"
    },
    "jupyter": {
     "outputs_hidden": false
    },
    "papermill": {
     "duration": 0.052137,
     "end_time": "2022-01-24T07:12:26.197322",
     "exception": false,
     "start_time": "2022-01-24T07:12:26.145185",
     "status": "completed"
    },
    "tags": []
   },
   "outputs": [
    {
     "name": "stdout",
     "output_type": "stream",
     "text": [
      "number of NaN values for the column bedrooms : 0\n",
      "number of NaN values for the column bathrooms : 0\n"
     ]
    }
   ],
   "source": [
    "print(\"number of NaN values for the column bedrooms :\", df['bedrooms'].isnull().sum())\n",
    "print(\"number of NaN values for the column bathrooms :\", df['bathrooms'].isnull().sum())"
   ]
  },
  {
   "cell_type": "markdown",
   "id": "4907d25c",
   "metadata": {
    "papermill": {
     "duration": 0.043901,
     "end_time": "2022-01-24T07:12:26.284774",
     "exception": false,
     "start_time": "2022-01-24T07:12:26.240873",
     "status": "completed"
    },
    "tags": []
   },
   "source": [
    "# Module 3: Exploratory Data Analysis\n"
   ]
  },
  {
   "cell_type": "markdown",
   "id": "eb279e5e",
   "metadata": {
    "papermill": {
     "duration": 0.042814,
     "end_time": "2022-01-24T07:12:26.370736",
     "exception": false,
     "start_time": "2022-01-24T07:12:26.327922",
     "status": "completed"
    },
    "tags": []
   },
   "source": [
    "### Question 3\n",
    "\n",
    "Use the method <code>value_counts</code> to count the number of houses with unique floor values, use the method <code>.to_frame()</code> to convert it to a dataframe.\n"
   ]
  },
  {
   "cell_type": "code",
   "execution_count": 11,
   "id": "63482c69",
   "metadata": {
    "collapsed": false,
    "execution": {
     "iopub.execute_input": "2022-01-24T07:12:26.470162Z",
     "iopub.status.busy": "2022-01-24T07:12:26.469260Z",
     "iopub.status.idle": "2022-01-24T07:12:26.472650Z",
     "shell.execute_reply": "2022-01-24T07:12:26.473142Z",
     "shell.execute_reply.started": "2022-01-03T13:29:17.362761Z"
    },
    "jupyter": {
     "outputs_hidden": false
    },
    "papermill": {
     "duration": 0.059579,
     "end_time": "2022-01-24T07:12:26.473344",
     "exception": false,
     "start_time": "2022-01-24T07:12:26.413765",
     "status": "completed"
    },
    "tags": []
   },
   "outputs": [
    {
     "data": {
      "text/html": [
       "<div>\n",
       "<style scoped>\n",
       "    .dataframe tbody tr th:only-of-type {\n",
       "        vertical-align: middle;\n",
       "    }\n",
       "\n",
       "    .dataframe tbody tr th {\n",
       "        vertical-align: top;\n",
       "    }\n",
       "\n",
       "    .dataframe thead th {\n",
       "        text-align: right;\n",
       "    }\n",
       "</style>\n",
       "<table border=\"1\" class=\"dataframe\">\n",
       "  <thead>\n",
       "    <tr style=\"text-align: right;\">\n",
       "      <th></th>\n",
       "      <th>floors</th>\n",
       "    </tr>\n",
       "  </thead>\n",
       "  <tbody>\n",
       "    <tr>\n",
       "      <th>1.0</th>\n",
       "      <td>10680</td>\n",
       "    </tr>\n",
       "    <tr>\n",
       "      <th>2.0</th>\n",
       "      <td>8241</td>\n",
       "    </tr>\n",
       "    <tr>\n",
       "      <th>1.5</th>\n",
       "      <td>1910</td>\n",
       "    </tr>\n",
       "    <tr>\n",
       "      <th>3.0</th>\n",
       "      <td>613</td>\n",
       "    </tr>\n",
       "    <tr>\n",
       "      <th>2.5</th>\n",
       "      <td>161</td>\n",
       "    </tr>\n",
       "    <tr>\n",
       "      <th>3.5</th>\n",
       "      <td>8</td>\n",
       "    </tr>\n",
       "  </tbody>\n",
       "</table>\n",
       "</div>"
      ],
      "text/plain": [
       "     floors\n",
       "1.0   10680\n",
       "2.0    8241\n",
       "1.5    1910\n",
       "3.0     613\n",
       "2.5     161\n",
       "3.5       8"
      ]
     },
     "execution_count": 11,
     "metadata": {},
     "output_type": "execute_result"
    }
   ],
   "source": [
    "df['floors'].value_counts().to_frame()"
   ]
  },
  {
   "cell_type": "markdown",
   "id": "78f6921d",
   "metadata": {
    "papermill": {
     "duration": 0.043161,
     "end_time": "2022-01-24T07:12:26.559929",
     "exception": false,
     "start_time": "2022-01-24T07:12:26.516768",
     "status": "completed"
    },
    "tags": []
   },
   "source": [
    "### Question 4\n",
    "\n",
    "Use the function <code>boxplot</code> in the seaborn library  to  determine whether houses with a waterfront view or without a waterfront view have more price outliers.\n"
   ]
  },
  {
   "cell_type": "code",
   "execution_count": 12,
   "id": "4d962cc5",
   "metadata": {
    "collapsed": false,
    "execution": {
     "iopub.execute_input": "2022-01-24T07:12:26.653455Z",
     "iopub.status.busy": "2022-01-24T07:12:26.652469Z",
     "iopub.status.idle": "2022-01-24T07:12:26.895728Z",
     "shell.execute_reply": "2022-01-24T07:12:26.895194Z",
     "shell.execute_reply.started": "2022-01-03T13:29:17.377404Z"
    },
    "jupyter": {
     "outputs_hidden": false
    },
    "papermill": {
     "duration": 0.292376,
     "end_time": "2022-01-24T07:12:26.895878",
     "exception": false,
     "start_time": "2022-01-24T07:12:26.603502",
     "status": "completed"
    },
    "tags": []
   },
   "outputs": [
    {
     "data": {
      "text/plain": [
       "<AxesSubplot:xlabel='waterfront', ylabel='price'>"
      ]
     },
     "execution_count": 12,
     "metadata": {},
     "output_type": "execute_result"
    },
    {
     "data": {
      "image/png": "[encoded data removed]",
      "text/plain": [
       "<Figure size 432x288 with 1 Axes>"
      ]
     },
     "metadata": {
      "needs_background": "light"
     },
     "output_type": "display_data"
    }
   ],
   "source": [
    "wf = df['waterfront']\n",
    "price = df['price']\n",
    "\n",
    "sns.boxplot(x = wf, y = price)"
   ]
  },
  {
   "cell_type": "markdown",
   "id": "a44b55fa",
   "metadata": {
    "papermill": {
     "duration": 0.043763,
     "end_time": "2022-01-24T07:12:26.984157",
     "exception": false,
     "start_time": "2022-01-24T07:12:26.940394",
     "status": "completed"
    },
    "tags": []
   },
   "source": [
    "### Question 5\n",
    "\n",
    "Use the function <code>regplot</code>  in the seaborn library  to  determine if the feature <code>sqft_above</code> is negatively or positively correlated with price.\n"
   ]
  },
  {
   "cell_type": "code",
   "execution_count": 13,
   "id": "61a23094",
   "metadata": {
    "collapsed": false,
    "execution": {
     "iopub.execute_input": "2022-01-24T07:12:27.078115Z",
     "iopub.status.busy": "2022-01-24T07:12:27.077456Z",
     "iopub.status.idle": "2022-01-24T07:12:28.359339Z",
     "shell.execute_reply": "2022-01-24T07:12:28.358350Z",
     "shell.execute_reply.started": "2022-01-03T13:29:17.60127Z"
    },
    "jupyter": {
     "outputs_hidden": false
    },
    "papermill": {
     "duration": 1.331334,
     "end_time": "2022-01-24T07:12:28.359495",
     "exception": false,
     "start_time": "2022-01-24T07:12:27.028161",
     "status": "completed"
    },
    "tags": []
   },
   "outputs": [
    {
     "data": {
      "image/png": "[encoded data removed]",
      "text/plain": [
       "<Figure size 432x288 with 1 Axes>"
      ]
     },
     "metadata": {
      "needs_background": "light"
     },
     "output_type": "display_data"
    }
   ],
   "source": [
    "# draw regplot\n",
    "sns.regplot(x = \"sqft_above\", \n",
    "            y = \"price\", \n",
    "            data = df)\n",
    "  \n",
    "# show the plot\n",
    "plt.show()"
   ]
  },
  {
   "cell_type": "markdown",
   "id": "1fe68df3",
   "metadata": {
    "papermill": {
     "duration": 0.045813,
     "end_time": "2022-01-24T07:12:28.450807",
     "exception": false,
     "start_time": "2022-01-24T07:12:28.404994",
     "status": "completed"
    },
    "tags": []
   },
   "source": [
    "We can use the Pandas method <code>corr()</code>  to find the feature other than price that is most correlated with price.\n"
   ]
  },
  {
   "cell_type": "code",
   "execution_count": 14,
   "id": "a016b968",
   "metadata": {
    "collapsed": false,
    "execution": {
     "iopub.execute_input": "2022-01-24T07:12:28.545224Z",
     "iopub.status.busy": "2022-01-24T07:12:28.544536Z",
     "iopub.status.idle": "2022-01-24T07:12:28.575461Z",
     "shell.execute_reply": "2022-01-24T07:12:28.575974Z",
     "shell.execute_reply.started": "2022-01-03T13:29:18.719148Z"
    },
    "jupyter": {
     "outputs_hidden": false
    },
    "papermill": {
     "duration": 0.079934,
     "end_time": "2022-01-24T07:12:28.576149",
     "exception": false,
     "start_time": "2022-01-24T07:12:28.496215",
     "status": "completed"
    },
    "tags": []
   },
   "outputs": [
    {
     "data": {
      "text/plain": [
       "zipcode         -0.053203\n",
       "long             0.021626\n",
       "condition        0.036362\n",
       "yr_built         0.054012\n",
       "sqft_lot15       0.082447\n",
       "sqft_lot         0.089661\n",
       "yr_renovated     0.126434\n",
       "floors           0.256794\n",
       "waterfront       0.266369\n",
       "lat              0.307003\n",
       "bedrooms         0.308797\n",
       "sqft_basement    0.323816\n",
       "view             0.397293\n",
       "bathrooms        0.525738\n",
       "sqft_living15    0.585379\n",
       "sqft_above       0.605567\n",
       "grade            0.667434\n",
       "sqft_living      0.702035\n",
       "price            1.000000\n",
       "Name: price, dtype: float64"
      ]
     },
     "execution_count": 14,
     "metadata": {},
     "output_type": "execute_result"
    }
   ],
   "source": [
    "df.corr()['price'].sort_values()"
   ]
  },
  {
   "cell_type": "markdown",
   "id": "4a2d1215",
   "metadata": {
    "papermill": {
     "duration": 0.045521,
     "end_time": "2022-01-24T07:12:28.667429",
     "exception": false,
     "start_time": "2022-01-24T07:12:28.621908",
     "status": "completed"
    },
    "tags": []
   },
   "source": [
    "# Module 4: Model Development\n"
   ]
  },
  {
   "cell_type": "markdown",
   "id": "0c8285f4",
   "metadata": {
    "papermill": {
     "duration": 0.045526,
     "end_time": "2022-01-24T07:12:28.758514",
     "exception": false,
     "start_time": "2022-01-24T07:12:28.712988",
     "status": "completed"
    },
    "tags": []
   },
   "source": [
    "We can Fit a linear regression model using the  longitude feature <code>'long'</code> and  caculate the R^2.\n"
   ]
  },
  {
   "cell_type": "code",
   "execution_count": 15,
   "id": "ac2cff44",
   "metadata": {
    "collapsed": false,
    "execution": {
     "iopub.execute_input": "2022-01-24T07:12:28.858523Z",
     "iopub.status.busy": "2022-01-24T07:12:28.857776Z",
     "iopub.status.idle": "2022-01-24T07:12:28.867537Z",
     "shell.execute_reply": "2022-01-24T07:12:28.868110Z",
     "shell.execute_reply.started": "2022-01-03T13:29:18.754896Z"
    },
    "jupyter": {
     "outputs_hidden": false
    },
    "papermill": {
     "duration": 0.064229,
     "end_time": "2022-01-24T07:12:28.868313",
     "exception": false,
     "start_time": "2022-01-24T07:12:28.804084",
     "status": "completed"
    },
    "tags": []
   },
   "outputs": [
    {
     "data": {
      "text/plain": [
       "0.00046769430149007363"
      ]
     },
     "execution_count": 15,
     "metadata": {},
     "output_type": "execute_result"
    }
   ],
   "source": [
    "X = df[['long']]\n",
    "Y = df['price']\n",
    "lm = LinearRegression()\n",
    "lm.fit(X,Y)\n",
    "lm.score(X, Y)"
   ]
  },
  {
   "cell_type": "markdown",
   "id": "4539c3d0",
   "metadata": {
    "papermill": {
     "duration": 0.045701,
     "end_time": "2022-01-24T07:12:28.960224",
     "exception": false,
     "start_time": "2022-01-24T07:12:28.914523",
     "status": "completed"
    },
    "tags": []
   },
   "source": [
    "### Question  6\n",
    "\n",
    "Fit a linear regression model to predict the <code>'price'</code> using the feature <code>'sqft_living'</code> then calculate the R^2. Take a screenshot of your code and the value of the R^2.\n"
   ]
  },
  {
   "cell_type": "code",
   "execution_count": 16,
   "id": "001a375c",
   "metadata": {
    "collapsed": false,
    "execution": {
     "iopub.execute_input": "2022-01-24T07:12:29.055845Z",
     "iopub.status.busy": "2022-01-24T07:12:29.054932Z",
     "iopub.status.idle": "2022-01-24T07:12:29.066922Z",
     "shell.execute_reply": "2022-01-24T07:12:29.067523Z",
     "shell.execute_reply.started": "2022-01-03T13:29:18.769138Z"
    },
    "jupyter": {
     "outputs_hidden": false
    },
    "papermill": {
     "duration": 0.061431,
     "end_time": "2022-01-24T07:12:29.067693",
     "exception": false,
     "start_time": "2022-01-24T07:12:29.006262",
     "status": "completed"
    },
    "tags": []
   },
   "outputs": [
    {
     "data": {
      "text/plain": [
       "0.4928532179037931"
      ]
     },
     "execution_count": 16,
     "metadata": {},
     "output_type": "execute_result"
    }
   ],
   "source": [
    "sqft_living = df[['sqft_living']]\n",
    "price = df['price']\n",
    "\n",
    "lm = LinearRegression()\n",
    "lm.fit(sqft_living,price)\n",
    "lm.score(sqft_living, price)"
   ]
  },
  {
   "cell_type": "markdown",
   "id": "0d7ccbae",
   "metadata": {
    "papermill": {
     "duration": 0.046115,
     "end_time": "2022-01-24T07:12:29.160035",
     "exception": false,
     "start_time": "2022-01-24T07:12:29.113920",
     "status": "completed"
    },
    "tags": []
   },
   "source": [
    "### Question 7\n",
    "\n",
    "Fit a linear regression model to predict the <code>'price'</code> using the list of features:\n"
   ]
  },
  {
   "cell_type": "code",
   "execution_count": 17,
   "id": "75e7a23a",
   "metadata": {
    "execution": {
     "iopub.execute_input": "2022-01-24T07:12:29.259507Z",
     "iopub.status.busy": "2022-01-24T07:12:29.258806Z",
     "iopub.status.idle": "2022-01-24T07:12:29.260135Z",
     "shell.execute_reply": "2022-01-24T07:12:29.260717Z",
     "shell.execute_reply.started": "2022-01-03T13:29:18.779836Z"
    },
    "papermill": {
     "duration": 0.053314,
     "end_time": "2022-01-24T07:12:29.260878",
     "exception": false,
     "start_time": "2022-01-24T07:12:29.207564",
     "status": "completed"
    },
    "tags": []
   },
   "outputs": [],
   "source": [
    "features =[\"floors\", \"waterfront\",\"lat\" ,\"bedrooms\" ,\"sqft_basement\" ,\"view\" ,\"bathrooms\",\"sqft_living15\",\"sqft_above\",\"grade\",\"sqft_living\"]     "
   ]
  },
  {
   "cell_type": "markdown",
   "id": "9865492d",
   "metadata": {
    "papermill": {
     "duration": 0.047309,
     "end_time": "2022-01-24T07:12:29.356170",
     "exception": false,
     "start_time": "2022-01-24T07:12:29.308861",
     "status": "completed"
    },
    "tags": []
   },
   "source": [
    "Then calculate the R^2. Take a screenshot of your code.\n"
   ]
  },
  {
   "cell_type": "code",
   "execution_count": 18,
   "id": "a1536dec",
   "metadata": {
    "collapsed": false,
    "execution": {
     "iopub.execute_input": "2022-01-24T07:12:29.452922Z",
     "iopub.status.busy": "2022-01-24T07:12:29.452240Z",
     "iopub.status.idle": "2022-01-24T07:12:29.477666Z",
     "shell.execute_reply": "2022-01-24T07:12:29.478687Z",
     "shell.execute_reply.started": "2022-01-03T13:29:18.785052Z"
    },
    "jupyter": {
     "outputs_hidden": false
    },
    "papermill": {
     "duration": 0.076091,
     "end_time": "2022-01-24T07:12:29.478974",
     "exception": false,
     "start_time": "2022-01-24T07:12:29.402883",
     "status": "completed"
    },
    "tags": []
   },
   "outputs": [
    {
     "data": {
      "text/plain": [
       "0.6576862276276761"
      ]
     },
     "execution_count": 18,
     "metadata": {},
     "output_type": "execute_result"
    }
   ],
   "source": [
    "price = df['price']\n",
    "x = df[features]\n",
    "lm = LinearRegression()\n",
    "lm.fit(x,price)\n",
    "lm.score(x, price)"
   ]
  },
  {
   "cell_type": "markdown",
   "id": "eebc9025",
   "metadata": {
    "papermill": {
     "duration": 0.058104,
     "end_time": "2022-01-24T07:12:29.624294",
     "exception": false,
     "start_time": "2022-01-24T07:12:29.566190",
     "status": "completed"
    },
    "tags": []
   },
   "source": [
    "### This will help with Question 8\n",
    "\n",
    "Create a list of tuples, the first element in the tuple contains the name of the estimator:\n",
    "\n",
    "<code>'scale'</code>\n",
    "\n",
    "<code>'polynomial'</code>\n",
    "\n",
    "<code>'model'</code>\n",
    "\n",
    "The second element in the tuple  contains the model constructor\n",
    "\n",
    "<code>StandardScaler()</code>\n",
    "\n",
    "<code>PolynomialFeatures(include_bias=False)</code>\n",
    "\n",
    "<code>LinearRegression()</code>\n"
   ]
  },
  {
   "cell_type": "code",
   "execution_count": 19,
   "id": "f08fffb1",
   "metadata": {
    "execution": {
     "iopub.execute_input": "2022-01-24T07:12:29.723059Z",
     "iopub.status.busy": "2022-01-24T07:12:29.722402Z",
     "iopub.status.idle": "2022-01-24T07:12:29.724601Z",
     "shell.execute_reply": "2022-01-24T07:12:29.725097Z",
     "shell.execute_reply.started": "2022-01-03T13:29:18.815197Z"
    },
    "papermill": {
     "duration": 0.054399,
     "end_time": "2022-01-24T07:12:29.725263",
     "exception": false,
     "start_time": "2022-01-24T07:12:29.670864",
     "status": "completed"
    },
    "tags": []
   },
   "outputs": [],
   "source": [
    "Input=[('scale',StandardScaler()),('polynomial', PolynomialFeatures(include_bias=False)),('model',LinearRegression())]"
   ]
  },
  {
   "cell_type": "markdown",
   "id": "9e866e86",
   "metadata": {
    "papermill": {
     "duration": 0.046134,
     "end_time": "2022-01-24T07:12:29.817918",
     "exception": false,
     "start_time": "2022-01-24T07:12:29.771784",
     "status": "completed"
    },
    "tags": []
   },
   "source": [
    "### Question 8\n",
    "\n",
    "Use the list to create a pipeline object to predict the 'price', fit the object using the features in the list <code>features</code>, and calculate the R^2.\n"
   ]
  },
  {
   "cell_type": "code",
   "execution_count": 20,
   "id": "86da1f27",
   "metadata": {
    "collapsed": false,
    "execution": {
     "iopub.execute_input": "2022-01-24T07:12:29.914998Z",
     "iopub.status.busy": "2022-01-24T07:12:29.913926Z",
     "iopub.status.idle": "2022-01-24T07:12:30.072786Z",
     "shell.execute_reply": "2022-01-24T07:12:30.073828Z",
     "shell.execute_reply.started": "2022-01-03T13:29:18.82785Z"
    },
    "jupyter": {
     "outputs_hidden": false
    },
    "papermill": {
     "duration": 0.209731,
     "end_time": "2022-01-24T07:12:30.074107",
     "exception": false,
     "start_time": "2022-01-24T07:12:29.864376",
     "status": "completed"
    },
    "tags": []
   },
   "outputs": [
    {
     "data": {
      "text/plain": [
       "0.7513409118896031"
      ]
     },
     "execution_count": 20,
     "metadata": {},
     "output_type": "execute_result"
    }
   ],
   "source": [
    "pipe=Pipeline(Input)\n",
    "pipe\n",
    "pipe.fit(df[features],df['price'])\n",
    "pipe.score(df[features],df['price'])"
   ]
  },
  {
   "cell_type": "markdown",
   "id": "40f8fd07",
   "metadata": {
    "papermill": {
     "duration": 0.057835,
     "end_time": "2022-01-24T07:12:30.220226",
     "exception": false,
     "start_time": "2022-01-24T07:12:30.162391",
     "status": "completed"
    },
    "tags": []
   },
   "source": [
    "# Module 5: Model Evaluation and Refinement\n"
   ]
  },
  {
   "cell_type": "markdown",
   "id": "9396fdf7",
   "metadata": {
    "papermill": {
     "duration": 0.048283,
     "end_time": "2022-01-24T07:12:30.315539",
     "exception": false,
     "start_time": "2022-01-24T07:12:30.267256",
     "status": "completed"
    },
    "tags": []
   },
   "source": [
    "Import the necessary modules:\n"
   ]
  },
  {
   "cell_type": "code",
   "execution_count": 21,
   "id": "8087ef2e",
   "metadata": {
    "collapsed": false,
    "execution": {
     "iopub.execute_input": "2022-01-24T07:12:30.414951Z",
     "iopub.status.busy": "2022-01-24T07:12:30.414294Z",
     "iopub.status.idle": "2022-01-24T07:12:30.416896Z",
     "shell.execute_reply": "2022-01-24T07:12:30.417419Z",
     "shell.execute_reply.started": "2022-01-03T13:29:19.005043Z"
    },
    "jupyter": {
     "outputs_hidden": false
    },
    "papermill": {
     "duration": 0.054653,
     "end_time": "2022-01-24T07:12:30.417579",
     "exception": false,
     "start_time": "2022-01-24T07:12:30.362926",
     "status": "completed"
    },
    "tags": []
   },
   "outputs": [
    {
     "name": "stdout",
     "output_type": "stream",
     "text": [
      "done\n"
     ]
    }
   ],
   "source": [
    "from sklearn.model_selection import cross_val_score\n",
    "from sklearn.model_selection import train_test_split\n",
    "print(\"done\")"
   ]
  },
  {
   "cell_type": "markdown",
   "id": "f39c1f00",
   "metadata": {
    "papermill": {
     "duration": 0.047521,
     "end_time": "2022-01-24T07:12:30.512599",
     "exception": false,
     "start_time": "2022-01-24T07:12:30.465078",
     "status": "completed"
    },
    "tags": []
   },
   "source": [
    "We will split the data into training and testing sets:\n"
   ]
  },
  {
   "cell_type": "code",
   "execution_count": 22,
   "id": "cd4d4203",
   "metadata": {
    "collapsed": false,
    "execution": {
     "iopub.execute_input": "2022-01-24T07:12:30.611960Z",
     "iopub.status.busy": "2022-01-24T07:12:30.611338Z",
     "iopub.status.idle": "2022-01-24T07:12:30.624242Z",
     "shell.execute_reply": "2022-01-24T07:12:30.624997Z",
     "shell.execute_reply.started": "2022-01-03T13:29:19.025504Z"
    },
    "jupyter": {
     "outputs_hidden": false
    },
    "papermill": {
     "duration": 0.063988,
     "end_time": "2022-01-24T07:12:30.625225",
     "exception": false,
     "start_time": "2022-01-24T07:12:30.561237",
     "status": "completed"
    },
    "tags": []
   },
   "outputs": [
    {
     "name": "stdout",
     "output_type": "stream",
     "text": [
      "number of test samples: 3242\n",
      "number of training samples: 18371\n"
     ]
    }
   ],
   "source": [
    "# features =[\"floors\", \"waterfront\",\"lat\" ,\"bedrooms\" ,\"sqft_basement\" ,\"view\" ,\"bathrooms\",\"sqft_living15\",\"sqft_above\",\"grade\",\"sqft_living\"]    \n",
    "X = df[features]\n",
    "Y = df['price']\n",
    "\n",
    "x_train, x_test, y_train, y_test = train_test_split(X, Y, test_size=0.15, random_state=1)\n",
    "\n",
    "\n",
    "print(\"number of test samples:\", x_test.shape[0])\n",
    "print(\"number of training samples:\",x_train.shape[0])"
   ]
  },
  {
   "cell_type": "markdown",
   "id": "e2ead23b",
   "metadata": {
    "papermill": {
     "duration": 0.048375,
     "end_time": "2022-01-24T07:12:30.722426",
     "exception": false,
     "start_time": "2022-01-24T07:12:30.674051",
     "status": "completed"
    },
    "tags": []
   },
   "source": [
    "### Question 9\n",
    "\n",
    "Create and fit a Ridge regression object using the training data, set the regularization parameter to 0.1, and calculate the R^2 using the test data.\n"
   ]
  },
  {
   "cell_type": "code",
   "execution_count": 23,
   "id": "796dcc9e",
   "metadata": {
    "execution": {
     "iopub.execute_input": "2022-01-24T07:12:30.823342Z",
     "iopub.status.busy": "2022-01-24T07:12:30.822666Z",
     "iopub.status.idle": "2022-01-24T07:12:30.824343Z",
     "shell.execute_reply": "2022-01-24T07:12:30.824785Z",
     "shell.execute_reply.started": "2022-01-03T13:29:19.046573Z"
    },
    "papermill": {
     "duration": 0.054588,
     "end_time": "2022-01-24T07:12:30.824976",
     "exception": false,
     "start_time": "2022-01-24T07:12:30.770388",
     "status": "completed"
    },
    "tags": []
   },
   "outputs": [],
   "source": [
    "from sklearn.linear_model import Ridge\n"
   ]
  },
  {
   "cell_type": "code",
   "execution_count": 24,
   "id": "3bb1e6e0",
   "metadata": {
    "collapsed": false,
    "execution": {
     "iopub.execute_input": "2022-01-24T07:12:30.929411Z",
     "iopub.status.busy": "2022-01-24T07:12:30.928729Z",
     "iopub.status.idle": "2022-01-24T07:12:30.950396Z",
     "shell.execute_reply": "2022-01-24T07:12:30.951371Z",
     "shell.execute_reply.started": "2022-01-03T13:29:19.052476Z"
    },
    "jupyter": {
     "outputs_hidden": false
    },
    "papermill": {
     "duration": 0.078552,
     "end_time": "2022-01-24T07:12:30.951657",
     "exception": false,
     "start_time": "2022-01-24T07:12:30.873105",
     "status": "completed"
    },
    "tags": []
   },
   "outputs": [
    {
     "data": {
      "text/plain": [
       "0.6478759163939113"
      ]
     },
     "execution_count": 24,
     "metadata": {},
     "output_type": "execute_result"
    }
   ],
   "source": [
    "RidgeModel = Ridge(alpha = 0.1)\n",
    "RidgeModel.fit(x_train, y_train)\n",
    "RidgeModel.score(x_test, y_test)"
   ]
  },
  {
   "cell_type": "markdown",
   "id": "f2979458",
   "metadata": {
    "papermill": {
     "duration": 0.055902,
     "end_time": "2022-01-24T07:12:31.100749",
     "exception": false,
     "start_time": "2022-01-24T07:12:31.044847",
     "status": "completed"
    },
    "tags": []
   },
   "source": [
    "### Question 10\n",
    "\n",
    "Perform a second order polynomial transform on both the training data and testing data. Create and fit a Ridge regression object using the training data, set the regularisation parameter to 0.1, and calculate the R^2 utilising the test data provided. Take a screenshot of your code and the R^2.\n"
   ]
  },
  {
   "cell_type": "code",
   "execution_count": 25,
   "id": "388a89dd",
   "metadata": {
    "collapsed": false,
    "execution": {
     "iopub.execute_input": "2022-01-24T07:12:31.206624Z",
     "iopub.status.busy": "2022-01-24T07:12:31.205104Z",
     "iopub.status.idle": "2022-01-24T07:12:31.331754Z",
     "shell.execute_reply": "2022-01-24T07:12:31.333425Z",
     "shell.execute_reply.started": "2022-01-03T13:29:19.077989Z"
    },
    "jupyter": {
     "outputs_hidden": false
    },
    "papermill": {
     "duration": 0.185325,
     "end_time": "2022-01-24T07:12:31.333962",
     "exception": false,
     "start_time": "2022-01-24T07:12:31.148637",
     "status": "completed"
    },
    "tags": []
   },
   "outputs": [
    {
     "name": "stdout",
     "output_type": "stream",
     "text": [
      "R^2 for second order polynomial transform the Training data by fitting a Ridge regression\n",
      "0.7418167438710657\n"
     ]
    }
   ],
   "source": [
    "polylm = PolynomialFeatures(degree=2)\n",
    "\n",
    "x_train_polylm=polylm.fit_transform(x_train[['floors', 'waterfront','lat' ,'bedrooms' ,'sqft_basement' ,'view' ,'bathrooms','sqft_living15','sqft_above','grade','sqft_living']])\n",
    "\n",
    "RidgeModel=Ridge(alpha=0.1)\n",
    "RidgeModel.fit(x_train_polylm, y_train)\n",
    "\n",
    "print('R^2 for second order polynomial transform the Training data by fitting a Ridge regression')\n",
    "score = RidgeModel.score(x_train_polylm, y_train)\n",
    "print(score)"
   ]
  },
  {
   "cell_type": "code",
   "execution_count": 26,
   "id": "62751fdb",
   "metadata": {
    "collapsed": false,
    "execution": {
     "iopub.execute_input": "2022-01-24T07:12:31.490362Z",
     "iopub.status.busy": "2022-01-24T07:12:31.489677Z",
     "iopub.status.idle": "2022-01-24T07:12:31.534853Z",
     "shell.execute_reply": "2022-01-24T07:12:31.536493Z",
     "shell.execute_reply.started": "2022-01-03T13:29:19.218893Z"
    },
    "jupyter": {
     "outputs_hidden": false
    },
    "papermill": {
     "duration": 0.111408,
     "end_time": "2022-01-24T07:12:31.536957",
     "exception": false,
     "start_time": "2022-01-24T07:12:31.425549",
     "status": "completed"
    },
    "tags": []
   },
   "outputs": [
    {
     "name": "stdout",
     "output_type": "stream",
     "text": [
      "R^2 for second order polynomial transform the Testing data by fitting a Ridge regression\n",
      "0.6661956216396663\n"
     ]
    }
   ],
   "source": [
    "x_test_polylm=polylm.fit_transform(x_test[['floors', 'waterfront','lat' ,'bedrooms' ,'sqft_basement' ,'view' ,'bathrooms','sqft_living15','sqft_above','grade','sqft_living']])\n",
    "\n",
    "RidgeModel=Ridge(alpha=0.1)\n",
    "RidgeModel.fit(x_test_polylm, y_test)\n",
    "RidgeModel.score(x_test_polylm, y_test)\n",
    "\n",
    "print('R^2 for second order polynomial transform the Testing data by fitting a Ridge regression')\n",
    "score = RidgeModel.score(x_train_polylm, y_train)\n",
    "print(score)"
   ]
  },
  {
   "cell_type": "markdown",
   "id": "4a25065e",
   "metadata": {
    "papermill": {
     "duration": 0.048389,
     "end_time": "2022-01-24T07:12:31.784068",
     "exception": false,
     "start_time": "2022-01-24T07:12:31.735679",
     "status": "completed"
    },
    "tags": []
   },
   "source": [
    "<h2>About the Authors:</h2> \n",
    "\n",
    "Utkarsh Pophli\n"
   ]
  },
  {
   "cell_type": "code",
   "execution_count": null,
   "id": "bfa57282",
   "metadata": {
    "papermill": {
     "duration": 0.050731,
     "end_time": "2022-01-24T07:12:32.078918",
     "exception": false,
     "start_time": "2022-01-24T07:12:32.028187",
     "status": "completed"
    },
    "tags": []
   },
   "outputs": [],
   "source": []
  }
 ],
 "metadata": {
  "kernelspec": {
   "display_name": "Python 3",
   "language": "python",
   "name": "python3"
  },
  "language_info": {
   "codemirror_mode": {
    "name": "ipython",
    "version": 3
   },
   "file_extension": ".py",
   "mimetype": "text/x-python",
   "name": "python",
   "nbconvert_exporter": "python",
   "pygments_lexer": "ipython3",
   "version": "3.7.12"
  },
  "papermill": {
   "default_parameters": {},
   "duration": 20.191833,
   "end_time": "2022-01-24T07:12:32.838017",
   "environment_variables": {},
   "exception": null,
   "input_path": "__notebook__.ipynb",
   "output_path": "__notebook__.ipynb",
   "parameters": {},
   "start_time": "2022-01-24T07:12:12.646184",
   "version": "2.3.3"
  }
 },
 "nbformat": 4,
 "nbformat_minor": 5
}
